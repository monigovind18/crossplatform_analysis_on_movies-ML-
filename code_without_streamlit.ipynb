{
 "cells": [
  {
   "cell_type": "code",
   "execution_count": 1,
   "metadata": {},
   "outputs": [],
   "source": [
    "import pandas as pd\n",
    "import names\n",
    "import random\n",
    "import os"
   ]
  },
  {
   "cell_type": "code",
   "execution_count": 2,
   "metadata": {},
   "outputs": [
    {
     "data": {
      "text/plain": [
       "'C:\\\\Users\\\\JAYACHANDRAN'"
      ]
     },
     "execution_count": 2,
     "metadata": {},
     "output_type": "execute_result"
    }
   ],
   "source": [
    "os.getcwd()"
   ]
  },
  {
   "cell_type": "code",
   "execution_count": 3,
   "metadata": {},
   "outputs": [
    {
     "data": {
      "text/plain": [
       "['.anaconda',\n",
       " '.arduinoIDE',\n",
       " '.conda',\n",
       " '.condarc',\n",
       " '.continuum',\n",
       " '.ipynb_checkpoints',\n",
       " '.ipython',\n",
       " '.jupyter',\n",
       " '.matplotlib',\n",
       " '.node_repl_history',\n",
       " '.vscode',\n",
       " 'anaconda3',\n",
       " 'AppData',\n",
       " 'Application Data',\n",
       " 'Contacts',\n",
       " 'Cookies',\n",
       " 'Cross_platform_analysis_for_Amazon_movie_subscribers.ipynb',\n",
       " 'Desktop',\n",
       " 'Documents',\n",
       " 'Downloads',\n",
       " 'Favorites',\n",
       " 'IntelGraphicsProfiles',\n",
       " 'Links',\n",
       " 'Local Settings',\n",
       " 'Music',\n",
       " 'My Documents',\n",
       " 'NetHood',\n",
       " 'NTUSER.DAT',\n",
       " 'ntuser.dat.LOG1',\n",
       " 'ntuser.dat.LOG2',\n",
       " 'NTUSER.DAT{a2332f18-cdbf-11ec-8680-002248483d79}.TM.blf',\n",
       " 'NTUSER.DAT{a2332f18-cdbf-11ec-8680-002248483d79}.TMContainer00000000000000000001.regtrans-ms',\n",
       " 'NTUSER.DAT{a2332f18-cdbf-11ec-8680-002248483d79}.TMContainer00000000000000000002.regtrans-ms',\n",
       " 'ntuser.ini',\n",
       " 'OneDrive',\n",
       " 'Pictures',\n",
       " 'PrintHood',\n",
       " 'PycharmProjects',\n",
       " 'Recent',\n",
       " 'Salary_dataset (1).csv',\n",
       " 'Saved Games',\n",
       " 'Searches',\n",
       " 'SendTo',\n",
       " 'Start Menu',\n",
       " 'Templates',\n",
       " 'Untitled Folder',\n",
       " 'Untitled Folder 1',\n",
       " 'Untitled Folder 2',\n",
       " 'Untitled.ipynb',\n",
       " 'Untitled1.ipynb',\n",
       " 'Untitled2.ipynb',\n",
       " 'Untitled3.ipynb',\n",
       " 'Untitled4.ipynb',\n",
       " 'Videos']"
      ]
     },
     "execution_count": 3,
     "metadata": {},
     "output_type": "execute_result"
    }
   ],
   "source": [
    "os.listdir()"
   ]
  },
  {
   "cell_type": "markdown",
   "metadata": {},
   "source": [
    "<!--  -->\n",
    "Task 1: Data Cleaning and Preprocessing\n",
    "Description:\n",
    "Clean and preprocess the downloaded CSV dataset to ensure it is ready for analysis.\n",
    "Steps:\n",
    "1.\tLoad the Dataset:\n",
    "o\tUse pandas to read the CSV file into a DataFrame.\n",
    "2.\tInspect the Data:\n",
    "o\tfor any null values and handle it\n",
    "3.\tSave the Cleaned Data:\n",
    "o\tSave the cleaned dataset to a new CSV file using \n"
   ]
  },
  {
   "cell_type": "code",
   "execution_count": null,
   "metadata": {
    "colab": {
     "base_uri": "https://localhost:8080/",
     "height": 975
    },
    "id": "AAsV-m5bt2pl",
    "outputId": "11ca6dbe-401e-4d1a-de0f-c6b5f3e60b91"
   },
   "outputs": [
    {
     "data": {
      "text/html": [
       "\n",
       "     <input type=\"file\" id=\"files-fb1369bd-9868-4e01-9fda-d57231490deb\" name=\"files[]\" multiple disabled\n",
       "        style=\"border:none\" />\n",
       "     <output id=\"result-fb1369bd-9868-4e01-9fda-d57231490deb\">\n",
       "      Upload widget is only available when the cell has been executed in the\n",
       "      current browser session. Please rerun this cell to enable.\n",
       "      </output>\n",
       "      <script>// Copyright 2017 Google LLC\n",
       "//\n",
       "// Licensed under the Apache License, Version 2.0 (the \"License\");\n",
       "// you may not use this file except in compliance with the License.\n",
       "// You may obtain a copy of the License at\n",
       "//\n",
       "//      http://www.apache.org/licenses/LICENSE-2.0\n",
       "//\n",
       "// Unless required by applicable law or agreed to in writing, software\n",
       "// distributed under the License is distributed on an \"AS IS\" BASIS,\n",
       "// WITHOUT WARRANTIES OR CONDITIONS OF ANY KIND, either express or implied.\n",
       "// See the License for the specific language governing permissions and\n",
       "// limitations under the License.\n",
       "\n",
       "/**\n",
       " * @fileoverview Helpers for google.colab Python module.\n",
       " */\n",
       "(function(scope) {\n",
       "function span(text, styleAttributes = {}) {\n",
       "  const element = document.createElement('span');\n",
       "  element.textContent = text;\n",
       "  for (const key of Object.keys(styleAttributes)) {\n",
       "    element.style[key] = styleAttributes[key];\n",
       "  }\n",
       "  return element;\n",
       "}\n",
       "\n",
       "// Max number of bytes which will be uploaded at a time.\n",
       "const MAX_PAYLOAD_SIZE = 100 * 1024;\n",
       "\n",
       "function _uploadFiles(inputId, outputId) {\n",
       "  const steps = uploadFilesStep(inputId, outputId);\n",
       "  const outputElement = document.getElementById(outputId);\n",
       "  // Cache steps on the outputElement to make it available for the next call\n",
       "  // to uploadFilesContinue from Python.\n",
       "  outputElement.steps = steps;\n",
       "\n",
       "  return _uploadFilesContinue(outputId);\n",
       "}\n",
       "\n",
       "// This is roughly an async generator (not supported in the browser yet),\n",
       "// where there are multiple asynchronous steps and the Python side is going\n",
       "// to poll for completion of each step.\n",
       "// This uses a Promise to block the python side on completion of each step,\n",
       "// then passes the result of the previous step as the input to the next step.\n",
       "function _uploadFilesContinue(outputId) {\n",
       "  const outputElement = document.getElementById(outputId);\n",
       "  const steps = outputElement.steps;\n",
       "\n",
       "  const next = steps.next(outputElement.lastPromiseValue);\n",
       "  return Promise.resolve(next.value.promise).then((value) => {\n",
       "    // Cache the last promise value to make it available to the next\n",
       "    // step of the generator.\n",
       "    outputElement.lastPromiseValue = value;\n",
       "    return next.value.response;\n",
       "  });\n",
       "}\n",
       "\n",
       "/**\n",
       " * Generator function which is called between each async step of the upload\n",
       " * process.\n",
       " * @param {string} inputId Element ID of the input file picker element.\n",
       " * @param {string} outputId Element ID of the output display.\n",
       " * @return {!Iterable<!Object>} Iterable of next steps.\n",
       " */\n",
       "function* uploadFilesStep(inputId, outputId) {\n",
       "  const inputElement = document.getElementById(inputId);\n",
       "  inputElement.disabled = false;\n",
       "\n",
       "  const outputElement = document.getElementById(outputId);\n",
       "  outputElement.innerHTML = '';\n",
       "\n",
       "  const pickedPromise = new Promise((resolve) => {\n",
       "    inputElement.addEventListener('change', (e) => {\n",
       "      resolve(e.target.files);\n",
       "    });\n",
       "  });\n",
       "\n",
       "  const cancel = document.createElement('button');\n",
       "  inputElement.parentElement.appendChild(cancel);\n",
       "  cancel.textContent = 'Cancel upload';\n",
       "  const cancelPromise = new Promise((resolve) => {\n",
       "    cancel.onclick = () => {\n",
       "      resolve(null);\n",
       "    };\n",
       "  });\n",
       "\n",
       "  // Wait for the user to pick the files.\n",
       "  const files = yield {\n",
       "    promise: Promise.race([pickedPromise, cancelPromise]),\n",
       "    response: {\n",
       "      action: 'starting',\n",
       "    }\n",
       "  };\n",
       "\n",
       "  cancel.remove();\n",
       "\n",
       "  // Disable the input element since further picks are not allowed.\n",
       "  inputElement.disabled = true;\n",
       "\n",
       "  if (!files) {\n",
       "    return {\n",
       "      response: {\n",
       "        action: 'complete',\n",
       "      }\n",
       "    };\n",
       "  }\n",
       "\n",
       "  for (const file of files) {\n",
       "    const li = document.createElement('li');\n",
       "    li.append(span(file.name, {fontWeight: 'bold'}));\n",
       "    li.append(span(\n",
       "        `(${file.type || 'n/a'}) - ${file.size} bytes, ` +\n",
       "        `last modified: ${\n",
       "            file.lastModifiedDate ? file.lastModifiedDate.toLocaleDateString() :\n",
       "                                    'n/a'} - `));\n",
       "    const percent = span('0% done');\n",
       "    li.appendChild(percent);\n",
       "\n",
       "    outputElement.appendChild(li);\n",
       "\n",
       "    const fileDataPromise = new Promise((resolve) => {\n",
       "      const reader = new FileReader();\n",
       "      reader.onload = (e) => {\n",
       "        resolve(e.target.result);\n",
       "      };\n",
       "      reader.readAsArrayBuffer(file);\n",
       "    });\n",
       "    // Wait for the data to be ready.\n",
       "    let fileData = yield {\n",
       "      promise: fileDataPromise,\n",
       "      response: {\n",
       "        action: 'continue',\n",
       "      }\n",
       "    };\n",
       "\n",
       "    // Use a chunked sending to avoid message size limits. See b/62115660.\n",
       "    let position = 0;\n",
       "    do {\n",
       "      const length = Math.min(fileData.byteLength - position, MAX_PAYLOAD_SIZE);\n",
       "      const chunk = new Uint8Array(fileData, position, length);\n",
       "      position += length;\n",
       "\n",
       "      const base64 = btoa(String.fromCharCode.apply(null, chunk));\n",
       "      yield {\n",
       "        response: {\n",
       "          action: 'append',\n",
       "          file: file.name,\n",
       "          data: base64,\n",
       "        },\n",
       "      };\n",
       "\n",
       "      let percentDone = fileData.byteLength === 0 ?\n",
       "          100 :\n",
       "          Math.round((position / fileData.byteLength) * 100);\n",
       "      percent.textContent = `${percentDone}% done`;\n",
       "\n",
       "    } while (position < fileData.byteLength);\n",
       "  }\n",
       "\n",
       "  // All done.\n",
       "  yield {\n",
       "    response: {\n",
       "      action: 'complete',\n",
       "    }\n",
       "  };\n",
       "}\n",
       "\n",
       "scope.google = scope.google || {};\n",
       "scope.google.colab = scope.google.colab || {};\n",
       "scope.google.colab._files = {\n",
       "  _uploadFiles,\n",
       "  _uploadFilesContinue,\n",
       "};\n",
       "})(self);\n",
       "</script> "
      ],
      "text/plain": [
       "<IPython.core.display.HTML object>"
      ]
     },
     "metadata": {},
     "output_type": "display_data"
    },
    {
     "name": "stdout",
     "output_type": "stream",
     "text": [
      "Saving amazon prime movies.csv to amazon prime movies.csv\n",
      "First few rows of the dataset:\n",
      "     Movie Name Language IMDb Rating Running Time  Year of Release  \\\n",
      "0    John Rambo    Tamil           7   1 h 26 min           2008.0   \n",
      "1  American Pie  English           7   1 h 35 min           1999.0   \n",
      "2     Bombshell  English         6.8   1 h 48 min           2019.0   \n",
      "3    Love Birds    Tamil         5.1   2 h 40 min           1996.0   \n",
      "4         Hippi   Telugu           5   2 h 20 min           2019.0   \n",
      "\n",
      "  Maturity Rating                                               Plot  \n",
      "0             18+  In Thailand, John Rambo joins a group of merce...  \n",
      "1             18+  You'll never look at warm apple pie the same w...  \n",
      "2             18+  The provocative real story of three smart, amb...  \n",
      "3             All  After accidentally meeting, Mridula (Nagma) an...  \n",
      "4             18+  Hippi is about the live-in relationship betwee...  \n",
      "\n",
      "Dataset info:\n",
      "<class 'pandas.core.frame.DataFrame'>\n",
      "RangeIndex: 8127 entries, 0 to 8126\n",
      "Data columns (total 7 columns):\n",
      " #   Column           Non-Null Count  Dtype  \n",
      "---  ------           --------------  -----  \n",
      " 0   Movie Name       8127 non-null   object \n",
      " 1   Language         8127 non-null   object \n",
      " 2   IMDb Rating      6120 non-null   object \n",
      " 3   Running Time     8127 non-null   object \n",
      " 4   Year of Release  7730 non-null   float64\n",
      " 5   Maturity Rating  8127 non-null   object \n",
      " 6   Plot             8122 non-null   object \n",
      "dtypes: float64(1), object(6)\n",
      "memory usage: 444.6+ KB\n",
      "None\n",
      "\n",
      "Summary statistics of the dataset:\n",
      "       Year of Release\n",
      "count      7730.000000\n",
      "mean       2006.957439\n",
      "std          13.494396\n",
      "min        1952.000000\n",
      "25%        1999.000000\n",
      "50%        2012.000000\n",
      "75%        2017.000000\n",
      "max        2021.000000\n",
      "\n",
      "Missing values in each column:\n",
      "Movie Name            0\n",
      "Language              0\n",
      "IMDb Rating        2007\n",
      "Running Time          0\n",
      "Year of Release     397\n",
      "Maturity Rating       0\n",
      "Plot                  5\n",
      "dtype: int64\n"
     ]
    }
   ],
   "source": [
    "from google.colab import files\n",
    "import pandas as pd\n",
    "\n",
    "\n",
    "uploaded = files.upload()\n",
    "df = pd.read_csv( 'amazon prime movies.csv')\n",
    "print(\"First few rows of the dataset:\")\n",
    "print(df.head())\n",
    "\n",
    "print(\"\\nDataset info:\")\n",
    "print(df.info())\n",
    "\n",
    "print(\"\\nSummary statistics of the dataset:\")\n",
    "print(df.describe())\n",
    "\n",
    "missing_values = df.isnull().sum()\n",
    "print(\"\\nMissing values in each column:\")\n",
    "print(missing_values)\n",
    "\n",
    "df_cleaned = df.dropna()\n",
    "\n",
    "df.to_csv('cleaned_amazon prime movies.csv', index=False)"
   ]
  },
  {
   "cell_type": "markdown",
   "metadata": {},
   "source": [
    "Task 2: Exploratory Data Analysis (EDA)\n",
    "Description:\n",
    "Perform exploratory data analysis to understand the main characteristics of the dataset.\n",
    "Steps:\n",
    "1.\tLoad the Dataset:\n",
    "2.\tUnivariate Analysis:\n",
    "o\tAnalyze individual features using summary statistics and visualizations (histograms, box plots).\n",
    "3.\tSummarize Findings:\n",
    "o\tWrite a report summarizing key insights and findings from the EDA\n",
    "# "
   ]
  },
  {
   "cell_type": "code",
   "execution_count": null,
   "metadata": {
    "colab": {
     "base_uri": "https://localhost:8080/",
     "height": 653
    },
    "id": "ejzQx8dUp9DP",
    "outputId": "8954dcb2-6d06-4820-dd19-8ac52bccb04d"
   },
   "outputs": [
    {
     "name": "stdout",
     "output_type": "stream",
     "text": [
      "\n",
      "Summary statistics of the dataset:\n",
      "       Year of Release\n",
      "count      7730.000000\n",
      "mean       2006.957439\n",
      "std          13.494396\n",
      "min        1952.000000\n",
      "25%        1999.000000\n",
      "50%        2012.000000\n",
      "75%        2017.000000\n",
      "max        2021.000000\n"
     ]
    },
    {
     "data": {
      "image/png": "[encoded data removed]",
      "text/plain": [
       "<Figure size 1800x1200 with 2 Axes>"
      ]
     },
     "metadata": {},
     "output_type": "display_data"
    }
   ],
   "source": [
    "import pandas as pd\n",
    "import matplotlib.pyplot as plt\n",
    "import seaborn as sns\n",
    "\n",
    "file_name = 'cleaned_amazon prime movies.csv'\n",
    "df = pd.read_csv(file_name)\n",
    "\n",
    "print(\"\\nSummary statistics of the dataset:\")\n",
    "print(df.describe())\n",
    "\n",
    "numerical_columns = df.select_dtypes(include=['float64', 'int64']).columns\n",
    "\n",
    "plt.figure(figsize=(18, 12))\n",
    "\n",
    "for i, column in enumerate(numerical_columns, 1):\n",
    "    plt.subplot(len(numerical_columns), 2, i*2-1)\n",
    "    df[column].hist(bins=20)\n",
    "    plt.title(f'Histogram of {column}')\n",
    "    plt.xlabel(column)\n",
    "    plt.ylabel('Frequency')\n",
    "\n",
    "    plt.subplot(len(numerical_columns), 2, i*2)\n",
    "    sns.boxplot(x=df[column])\n",
    "    plt.title(f'Box Plot of {column}')\n",
    "    plt.xlabel(column)\n",
    "\n",
    "plt.tight_layout()\n",
    "plt.show()\n"
   ]
  },
  {
   "cell_type": "markdown",
   "metadata": {},
   "source": [
    "Task 3: Data Pre-processing\n",
    "Perform data pre-processing using NLP techniques like (TF-IDF) for reviews. \n",
    "# "
   ]
  },
  {
   "cell_type": "code",
   "execution_count": null,
   "metadata": {
    "colab": {
     "base_uri": "https://localhost:8080/"
    },
    "id": "BzupIEIcvQY3",
    "outputId": "490095bf-5512-420c-a395-ef15724e58da"
   },
   "outputs": [
    {
     "name": "stdout",
     "output_type": "stream",
     "text": [
      "First few rows of the dataset:\n",
      "     Movie Name Language IMDb Rating Running Time  Year of Release  \\\n",
      "0    John Rambo    Tamil           7   1 h 26 min           2008.0   \n",
      "1  American Pie  English           7   1 h 35 min           1999.0   \n",
      "2     Bombshell  English         6.8   1 h 48 min           2019.0   \n",
      "3    Love Birds    Tamil         5.1   2 h 40 min           1996.0   \n",
      "4         Hippi   Telugu           5   2 h 20 min           2019.0   \n",
      "\n",
      "  Maturity Rating                                               Plot  \n",
      "0             18+  In Thailand, John Rambo joins a group of merce...  \n",
      "1             18+  You'll never look at warm apple pie the same w...  \n",
      "2             18+  The provocative real story of three smart, amb...  \n",
      "3             All  After accidentally meeting, Mridula (Nagma) an...  \n",
      "4             18+  Hippi is about the live-in relationship betwee...  \n",
      "\n",
      "First few rows of the updated dataset with scaled IMDb ratings:\n",
      "     Movie Name Language  IMDb Rating Running Time  Year of Release  \\\n",
      "0    John Rambo    Tamil          7.0   1 h 26 min           2008.0   \n",
      "1  American Pie  English          7.0   1 h 35 min           1999.0   \n",
      "2     Bombshell  English          6.8   1 h 48 min           2019.0   \n",
      "3    Love Birds    Tamil          5.1   2 h 40 min           1996.0   \n",
      "4         Hippi   Telugu          5.0   2 h 20 min           2019.0   \n",
      "\n",
      "  Maturity Rating                                               Plot  \\\n",
      "0             18+  In Thailand, John Rambo joins a group of merce...   \n",
      "1             18+  You'll never look at warm apple pie the same w...   \n",
      "2             18+  The provocative real story of three smart, amb...   \n",
      "3             All  After accidentally meeting, Mridula (Nagma) an...   \n",
      "4             18+  Hippi is about the live-in relationship betwee...   \n",
      "\n",
      "   Scaled IMDb Rating  \n",
      "0            0.691358  \n",
      "1            0.691358  \n",
      "2            0.666667  \n",
      "3            0.456790  \n",
      "4            0.444444  \n"
     ]
    }
   ],
   "source": [
    "import pandas as pd\n",
    "from sklearn.preprocessing import MinMaxScaler\n",
    "\n",
    "\n",
    "df = pd.read_csv('cleaned_amazon prime movies.csv')\n",
    "\n",
    "print(\"First few rows of the dataset:\")\n",
    "print(df.head())\n",
    "\n",
    "if 'IMDb Rating' not in df.columns:\n",
    "    raise ValueError(\"The dataset does not contain an 'IMDb Rating' column.\")\n",
    "\n",
    "df['IMDb Rating'] = pd.to_numeric(df['IMDb Rating'], errors='coerce')\n",
    "\n",
    "imdb_ratings = df['IMDb Rating'].dropna()\n",
    "index_valid_ratings = imdb_ratings.index\n",
    "imdb_ratings = imdb_ratings.values.reshape(-1, 1)\n",
    "\n",
    "scaler = MinMaxScaler()\n",
    "scaled_ratings = scaler.fit_transform(imdb_ratings)\n",
    "\n",
    "scaled_ratings_series = pd.Series(scaled_ratings.flatten(), index=index_valid_ratings, name='Scaled IMDb Rating')\n",
    "\n",
    "df = df.join(scaled_ratings_series)\n",
    "\n",
    "output_file_path = 'tfidf_amazon prime movies.csv'\n",
    "df.to_csv(output_file_path, index=False)\n",
    "\n",
    "print(\"\\nFirst few rows of the updated dataset with scaled IMDb ratings:\")\n",
    "print(df.head())"
   ]
  },
  {
   "cell_type": "code",
   "execution_count": null,
   "metadata": {},
   "outputs": [],
   "source": []
  },
  {
   "cell_type": "code",
   "execution_count": null,
   "metadata": {
    "colab": {
     "base_uri": "https://localhost:8080/"
    },
    "id": "X5m2fyfq-Bzn",
    "outputId": "9b93479b-5d16-4e34-bc5c-0140658fcded"
   },
   "outputs": [
    {
     "name": "stdout",
     "output_type": "stream",
     "text": [
      "Collecting surprise\n",
      "  Downloading surprise-0.1-py2.py3-none-any.whl (1.8 kB)\n",
      "Collecting scikit-surprise (from surprise)\n",
      "  Downloading scikit_surprise-1.1.4.tar.gz (154 kB)\n",
      "\u001b[2K     \u001b[90m━━━━━━━━━━━━━━━━━━━━━━━━━━━━━━━━━━━━━━━━\u001b[0m \u001b[32m154.4/154.4 kB\u001b[0m \u001b[31m2.9 MB/s\u001b[0m eta \u001b[36m0:00:00\u001b[0m\n",
      "\u001b[?25h  Installing build dependencies ... \u001b[?25l\u001b[?25hdone\n",
      "  Getting requirements to build wheel ... \u001b[?25l\u001b[?25hdone\n",
      "  Preparing metadata (pyproject.toml) ... \u001b[?25l\u001b[?25hdone\n",
      "Requirement already satisfied: joblib>=1.2.0 in /usr/local/lib/python3.10/dist-packages (from scikit-surprise->surprise) (1.4.2)\n",
      "Requirement already satisfied: numpy>=1.19.5 in /usr/local/lib/python3.10/dist-packages (from scikit-surprise->surprise) (1.25.2)\n",
      "Requirement already satisfied: scipy>=1.6.0 in /usr/local/lib/python3.10/dist-packages (from scikit-surprise->surprise) (1.11.4)\n",
      "Building wheels for collected packages: scikit-surprise\n",
      "  Building wheel for scikit-surprise (pyproject.toml) ... \u001b[?25l\u001b[?25hdone\n",
      "  Created wheel for scikit-surprise: filename=scikit_surprise-1.1.4-cp310-cp310-linux_x86_64.whl size=2357254 sha256=096d53dda89ef17d8ad3199100bf1a89add581ec24bb004683b5dff51128345a\n",
      "  Stored in directory: /root/.cache/pip/wheels/4b/3f/df/6acbf0a40397d9bf3ff97f582cc22fb9ce66adde75bc71fd54\n",
      "Successfully built scikit-surprise\n",
      "Installing collected packages: scikit-surprise, surprise\n",
      "Successfully installed scikit-surprise-1.1.4 surprise-0.1\n"
     ]
    }
   ],
   "source": [
    "!pip install surprise"
   ]
  },
  {
   "cell_type": "code",
   "execution_count": null,
   "metadata": {
    "colab": {
     "base_uri": "https://localhost:8080/"
    },
    "id": "ENRM1bTkAcmK",
    "outputId": "b8c57239-d4b8-4e47-cdf7-c284ab2f809b"
   },
   "outputs": [
    {
     "name": "stdout",
     "output_type": "stream",
     "text": [
      "Evaluating RMSE, MAE of algorithm SVD on 5 split(s).\n",
      "\n",
      "                  Fold 1  Fold 2  Fold 3  Fold 4  Fold 5  Mean    Std     \n",
      "RMSE (testset)    nan     nan     nan     nan     nan     nan     nan     \n",
      "MAE (testset)     nan     nan     nan     nan     nan     nan     nan     \n",
      "Fit time          0.11    0.11    0.12    0.12    0.18    0.13    0.03    \n",
      "Test time         0.01    0.01    0.01    0.01    0.01    0.01    0.00    \n",
      "Predicted rating for user user_id on item item_id: 5\n"
     ]
    }
   ],
   "source": [
    "import pandas as pd\n",
    "from surprise import Dataset, Reader, SVD\n",
    "from surprise.model_selection import cross_validate\n",
    "\n",
    "data_path = 'tfidf_amazon prime movies.csv'\n",
    "ratings = pd.read_csv(data_path)\n",
    "\n",
    "reader = Reader(rating_scale=(1, 5))\n",
    "\n",
    "data = Dataset.load_from_df(ratings[['Movie Name', 'Language', 'Scaled IMDb Rating']], reader)\n",
    "\n",
    "model = SVD()\n",
    "\n",
    "cross_validate(model, data, measures=['RMSE', 'MAE'], cv=5, verbose=True)\n",
    "\n",
    "trainset = data.build_full_trainset()\n",
    "model.fit(trainset)\n",
    "\n",
    "user_id = 'user_id'\n",
    "item_id = 'item_id'\n",
    "prediction = model.predict(user_id, item_id)\n",
    "print(f'Predicted rating for user {user_id} on item {item_id}: {prediction.est}')\n"
   ]
  },
  {
   "cell_type": "markdown",
   "metadata": {},
   "source": [
    "Task 4: Model Building\n",
    "Description:\n",
    "Build a recommendation model using Content based or collaborative based\n",
    "# "
   ]
  },
  {
   "cell_type": "code",
   "execution_count": 4,
   "metadata": {
    "colab": {
     "base_uri": "https://localhost:8080/"
    },
    "id": "6TSLeDSmI4gF",
    "outputId": "5ce19a65-b71e-47a6-f1a0-bf161eabf177"
   },
   "outputs": [
    {
     "name": "stdout",
     "output_type": "stream",
     "text": [
      "Recommended movies have been saved to 'recommended_movies.csv''\n",
      "                    Movie Name IMDb Rating   Language  Year of Release  \\\n",
      "3615               Ranganayaki         9.5    Kannada           1981.0   \n",
      "3892          The Caravan Film         9.4    English           2019.0   \n",
      "487                A Dark Room         9.4    English           2020.0   \n",
      "4251  The Shawshank Redemption         9.3    English           1994.0   \n",
      "2106           Byomkesh Bakshi         9.2    Bengali           2017.0   \n",
      "2583                 Godfather         9.2  Malayalam           1991.0   \n",
      "4830             The Godfather         9.2    English           1972.0   \n",
      "991                  Natsamrat           9    Marathi           2015.0   \n",
      "2766                       Alo           9    Bengali           2018.0   \n",
      "3087           The Dark Knight           9    English           2008.0   \n",
      "\n",
      "     Maturity Rating  \n",
      "3615              NR  \n",
      "3892             13+  \n",
      "487              13+  \n",
      "4251             18+  \n",
      "2106             13+  \n",
      "2583              NR  \n",
      "4830             18+  \n",
      "991              All  \n",
      "2766             13+  \n",
      "3087             13+  \n"
     ]
    }
   ],
   "source": [
    "import pandas as pd\n",
    "\n",
    "file_path = '/content/cleaned_amazon prime movies.csv'\n",
    "amazon_prime_movies = pd.read_csv(file_path)\n",
    "\n",
    "Recommended_movies = amazon_prime_movies.sort_values(by='IMDb Rating', ascending=False).head(10)\n",
    "\n",
    "Recommended_movies.to_csv('recommended_movies.csv', index=False)\n",
    "\n",
    "print(\"Recommended movies have been saved to 'recommended_movies.csv''\")\n",
    "print(Recommended_movies[['Movie Name', 'IMDb Rating', 'Language', 'Year of Release', 'Maturity Rating']])\n"
   ]
  }
 ],
 "metadata": {
  "colab": {
   "provenance": []
  },
  "kernelspec": {
   "display_name": "Python 3 (ipykernel)",
   "language": "python",
   "name": "python3"
  },
  "language_info": {
   "codemirror_mode": {
    "name": "ipython",
    "version": 3
   },
   "file_extension": ".py",
   "mimetype": "text/x-python",
   "name": "python",
   "nbconvert_exporter": "python",
   "pygments_lexer": "ipython3",
   "version": "3.11.5"
  }
 },
 "nbformat": 4,
 "nbformat_minor": 1
}
